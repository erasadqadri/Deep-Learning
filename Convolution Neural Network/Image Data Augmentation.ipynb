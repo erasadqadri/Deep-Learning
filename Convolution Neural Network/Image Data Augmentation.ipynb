{
  "nbformat": 4,
  "nbformat_minor": 0,
  "metadata": {
    "colab": {
      "name": "Image Data Augmentation.ipynb",
      "provenance": [],
      "collapsed_sections": []
    },
    "kernelspec": {
      "name": "python3",
      "display_name": "Python 3"
    },
    "language_info": {
      "name": "python"
    }
  },
  "cells": [
    {
      "cell_type": "markdown",
      "metadata": {
        "id": "Kg4ULUKc4FM8"
      },
      "source": [
        "# **Image Data Augmentation**"
      ]
    },
    {
      "cell_type": "code",
      "metadata": {
        "id": "nV7aCg7twF4m"
      },
      "source": [
        "from keras.preprocessing.image import ImageDataGenerator, array_to_img, img_to_array, load_img"
      ],
      "execution_count": 1,
      "outputs": []
    },
    {
      "cell_type": "code",
      "metadata": {
        "id": "cMCiaQ9wxGse"
      },
      "source": [
        "datagen = ImageDataGenerator(\n",
        "          rotation_range = 40,\n",
        "          width_shift_range=0.2,\n",
        "          height_shift_range=0.2,\n",
        "          shear_range=0.2,\n",
        "          zoom_range=0.2,\n",
        "          horizontal_flip=True,\n",
        "          fill_mode='nearest')"
      ],
      "execution_count": 2,
      "outputs": []
    },
    {
      "cell_type": "code",
      "metadata": {
        "id": "Ar_wgwiyxw3t"
      },
      "source": [
        "img = load_img('/content/drive/MyDrive/CNNImage/Animal/Lion.jpg')"
      ],
      "execution_count": 3,
      "outputs": []
    },
    {
      "cell_type": "code",
      "metadata": {
        "colab": {
          "base_uri": "https://localhost:8080/"
        },
        "id": "VhuaUuXoxzoy",
        "outputId": "166f1294-616b-45fb-f8d4-032f78e1b3d6"
      },
      "source": [
        "x = img_to_array(img)\n",
        "x.shape"
      ],
      "execution_count": 4,
      "outputs": [
        {
          "output_type": "execute_result",
          "data": {
            "text/plain": [
              "(800, 1200, 3)"
            ]
          },
          "metadata": {},
          "execution_count": 4
        }
      ]
    },
    {
      "cell_type": "code",
      "metadata": {
        "colab": {
          "base_uri": "https://localhost:8080/"
        },
        "id": "5UBXPtPE1Kqp",
        "outputId": "3ffe554e-5ace-426d-aec7-6de940607f68"
      },
      "source": [
        "x = x.reshape((1,) + x.shape)\n",
        "x.shape"
      ],
      "execution_count": 5,
      "outputs": [
        {
          "output_type": "execute_result",
          "data": {
            "text/plain": [
              "(1, 800, 1200, 3)"
            ]
          },
          "metadata": {},
          "execution_count": 5
        }
      ]
    },
    {
      "cell_type": "code",
      "metadata": {
        "id": "sIofS8_X2MEL"
      },
      "source": [
        "i = 0\n",
        "for batch in datagen.flow(x, batch_size=1, save_to_dir='/content/drive/MyDrive/CNNImage/Animal', save_prefix='imgaug', save_format='.jpg'):\n",
        "  i += 1\n",
        "  if i>20: #Only 20 images will be augmented otherwise infinite images will be created.\n",
        "    break"
      ],
      "execution_count": 6,
      "outputs": []
    },
    {
      "cell_type": "markdown",
      "metadata": {
        "id": "VSX0HnQm4LkK"
      },
      "source": [
        "# **.flow()**\n",
        "This function is used to configure the batch size and prepare the data generator and get batches of images."
      ]
    }
  ]
}